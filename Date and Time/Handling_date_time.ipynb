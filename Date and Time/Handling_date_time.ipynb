{
 "cells": [
  {
   "cell_type": "code",
   "execution_count": 124,
   "metadata": {},
   "outputs": [],
   "source": [
    "import numpy as np \n",
    "import pandas as pd "
   ]
  },
  {
   "cell_type": "code",
   "execution_count": 125,
   "metadata": {},
   "outputs": [],
   "source": [
    "df_date = pd.read_csv('orders.csv')\n",
    "df_time = pd.read_csv('messages.csv')"
   ]
  },
  {
   "cell_type": "code",
   "execution_count": 126,
   "metadata": {},
   "outputs": [
    {
     "data": {
      "text/html": [
       "<div>\n",
       "<style scoped>\n",
       "    .dataframe tbody tr th:only-of-type {\n",
       "        vertical-align: middle;\n",
       "    }\n",
       "\n",
       "    .dataframe tbody tr th {\n",
       "        vertical-align: top;\n",
       "    }\n",
       "\n",
       "    .dataframe thead th {\n",
       "        text-align: right;\n",
       "    }\n",
       "</style>\n",
       "<table border=\"1\" class=\"dataframe\">\n",
       "  <thead>\n",
       "    <tr style=\"text-align: right;\">\n",
       "      <th></th>\n",
       "      <th>date</th>\n",
       "      <th>product_id</th>\n",
       "      <th>city_id</th>\n",
       "      <th>orders</th>\n",
       "    </tr>\n",
       "  </thead>\n",
       "  <tbody>\n",
       "    <tr>\n",
       "      <th>622</th>\n",
       "      <td>2018-09-21</td>\n",
       "      <td>3234</td>\n",
       "      <td>25</td>\n",
       "      <td>2</td>\n",
       "    </tr>\n",
       "    <tr>\n",
       "      <th>736</th>\n",
       "      <td>2018-12-23</td>\n",
       "      <td>1365</td>\n",
       "      <td>26</td>\n",
       "      <td>1</td>\n",
       "    </tr>\n",
       "    <tr>\n",
       "      <th>610</th>\n",
       "      <td>2018-10-01</td>\n",
       "      <td>457</td>\n",
       "      <td>16</td>\n",
       "      <td>2</td>\n",
       "    </tr>\n",
       "    <tr>\n",
       "      <th>641</th>\n",
       "      <td>2019-08-12</td>\n",
       "      <td>3034</td>\n",
       "      <td>0</td>\n",
       "      <td>1</td>\n",
       "    </tr>\n",
       "    <tr>\n",
       "      <th>635</th>\n",
       "      <td>2018-11-11</td>\n",
       "      <td>6295</td>\n",
       "      <td>3</td>\n",
       "      <td>84</td>\n",
       "    </tr>\n",
       "  </tbody>\n",
       "</table>\n",
       "</div>"
      ],
      "text/plain": [
       "           date  product_id  city_id  orders\n",
       "622  2018-09-21        3234       25       2\n",
       "736  2018-12-23        1365       26       1\n",
       "610  2018-10-01         457       16       2\n",
       "641  2019-08-12        3034        0       1\n",
       "635  2018-11-11        6295        3      84"
      ]
     },
     "execution_count": 126,
     "metadata": {},
     "output_type": "execute_result"
    }
   ],
   "source": [
    "df_date.sample(5)"
   ]
  },
  {
   "cell_type": "code",
   "execution_count": 127,
   "metadata": {},
   "outputs": [
    {
     "data": {
      "text/html": [
       "<div>\n",
       "<style scoped>\n",
       "    .dataframe tbody tr th:only-of-type {\n",
       "        vertical-align: middle;\n",
       "    }\n",
       "\n",
       "    .dataframe tbody tr th {\n",
       "        vertical-align: top;\n",
       "    }\n",
       "\n",
       "    .dataframe thead th {\n",
       "        text-align: right;\n",
       "    }\n",
       "</style>\n",
       "<table border=\"1\" class=\"dataframe\">\n",
       "  <thead>\n",
       "    <tr style=\"text-align: right;\">\n",
       "      <th></th>\n",
       "      <th>date</th>\n",
       "      <th>msg</th>\n",
       "    </tr>\n",
       "  </thead>\n",
       "  <tbody>\n",
       "    <tr>\n",
       "      <th>5</th>\n",
       "      <td>2016-03-08 22:52:00</td>\n",
       "      <td>пар.32прок.дев.на авто по ночн.городу.Днепр.06...</td>\n",
       "    </tr>\n",
       "    <tr>\n",
       "      <th>12</th>\n",
       "      <td>2013-06-05 01:05:00</td>\n",
       "      <td>.эксперементаторше. 0678676246</td>\n",
       "    </tr>\n",
       "    <tr>\n",
       "      <th>924</th>\n",
       "      <td>2015-11-21 00:03:00</td>\n",
       "      <td>ПАРЕНЬ ОБМЕН ФОТО С ПАРНЕМ 0963531597ПЕРВЫЙ НЕШЛЮ</td>\n",
       "    </tr>\n",
       "    <tr>\n",
       "      <th>719</th>\n",
       "      <td>2012-09-18 01:06:00</td>\n",
       "      <td>931251045 ДЕВЧОНКИ</td>\n",
       "    </tr>\n",
       "    <tr>\n",
       "      <th>920</th>\n",
       "      <td>2014-05-31 00:05:00</td>\n",
       "      <td>д скучяет парни 25-30 звоните0638100702 адмим ...</td>\n",
       "    </tr>\n",
       "  </tbody>\n",
       "</table>\n",
       "</div>"
      ],
      "text/plain": [
       "                    date                                                msg\n",
       "5    2016-03-08 22:52:00  пар.32прок.дев.на авто по ночн.городу.Днепр.06...\n",
       "12   2013-06-05 01:05:00                     .эксперементаторше. 0678676246\n",
       "924  2015-11-21 00:03:00  ПАРЕНЬ ОБМЕН ФОТО С ПАРНЕМ 0963531597ПЕРВЫЙ НЕШЛЮ\n",
       "719  2012-09-18 01:06:00                                 931251045 ДЕВЧОНКИ\n",
       "920  2014-05-31 00:05:00  д скучяет парни 25-30 звоните0638100702 адмим ..."
      ]
     },
     "execution_count": 127,
     "metadata": {},
     "output_type": "execute_result"
    }
   ],
   "source": [
    "df_time.sample(5)"
   ]
  },
  {
   "cell_type": "code",
   "execution_count": 128,
   "metadata": {},
   "outputs": [],
   "source": [
    "df_date['date'] = pd.to_datetime(df_date['date'])"
   ]
  },
  {
   "cell_type": "code",
   "execution_count": 129,
   "metadata": {},
   "outputs": [
    {
     "name": "stdout",
     "output_type": "stream",
     "text": [
      "<class 'pandas.core.frame.DataFrame'>\n",
      "RangeIndex: 1000 entries, 0 to 999\n",
      "Data columns (total 4 columns):\n",
      " #   Column      Non-Null Count  Dtype         \n",
      "---  ------      --------------  -----         \n",
      " 0   date        1000 non-null   datetime64[ns]\n",
      " 1   product_id  1000 non-null   int64         \n",
      " 2   city_id     1000 non-null   int64         \n",
      " 3   orders      1000 non-null   int64         \n",
      "dtypes: datetime64[ns](1), int64(3)\n",
      "memory usage: 31.4 KB\n"
     ]
    }
   ],
   "source": [
    "df_date.info()"
   ]
  },
  {
   "cell_type": "code",
   "execution_count": 130,
   "metadata": {},
   "outputs": [
    {
     "data": {
      "text/html": [
       "<div>\n",
       "<style scoped>\n",
       "    .dataframe tbody tr th:only-of-type {\n",
       "        vertical-align: middle;\n",
       "    }\n",
       "\n",
       "    .dataframe tbody tr th {\n",
       "        vertical-align: top;\n",
       "    }\n",
       "\n",
       "    .dataframe thead th {\n",
       "        text-align: right;\n",
       "    }\n",
       "</style>\n",
       "<table border=\"1\" class=\"dataframe\">\n",
       "  <thead>\n",
       "    <tr style=\"text-align: right;\">\n",
       "      <th></th>\n",
       "      <th>date</th>\n",
       "      <th>product_id</th>\n",
       "      <th>city_id</th>\n",
       "      <th>orders</th>\n",
       "      <th>year</th>\n",
       "    </tr>\n",
       "  </thead>\n",
       "  <tbody>\n",
       "    <tr>\n",
       "      <th>732</th>\n",
       "      <td>2019-08-15</td>\n",
       "      <td>5143</td>\n",
       "      <td>16</td>\n",
       "      <td>2</td>\n",
       "      <td>2019</td>\n",
       "    </tr>\n",
       "    <tr>\n",
       "      <th>908</th>\n",
       "      <td>2019-01-20</td>\n",
       "      <td>7510</td>\n",
       "      <td>16</td>\n",
       "      <td>2</td>\n",
       "      <td>2019</td>\n",
       "    </tr>\n",
       "    <tr>\n",
       "      <th>734</th>\n",
       "      <td>2018-12-21</td>\n",
       "      <td>1557</td>\n",
       "      <td>30</td>\n",
       "      <td>1</td>\n",
       "      <td>2018</td>\n",
       "    </tr>\n",
       "    <tr>\n",
       "      <th>785</th>\n",
       "      <td>2019-11-28</td>\n",
       "      <td>7427</td>\n",
       "      <td>28</td>\n",
       "      <td>1</td>\n",
       "      <td>2019</td>\n",
       "    </tr>\n",
       "    <tr>\n",
       "      <th>90</th>\n",
       "      <td>2019-12-16</td>\n",
       "      <td>7491</td>\n",
       "      <td>13</td>\n",
       "      <td>1</td>\n",
       "      <td>2019</td>\n",
       "    </tr>\n",
       "  </tbody>\n",
       "</table>\n",
       "</div>"
      ],
      "text/plain": [
       "          date  product_id  city_id  orders  year\n",
       "732 2019-08-15        5143       16       2  2019\n",
       "908 2019-01-20        7510       16       2  2019\n",
       "734 2018-12-21        1557       30       1  2018\n",
       "785 2019-11-28        7427       28       1  2019\n",
       "90  2019-12-16        7491       13       1  2019"
      ]
     },
     "execution_count": 130,
     "metadata": {},
     "output_type": "execute_result"
    }
   ],
   "source": [
    "df_date['year'] = df_date['date'].dt.year\n",
    "df_date.sample(5)"
   ]
  },
  {
   "cell_type": "code",
   "execution_count": 131,
   "metadata": {},
   "outputs": [
    {
     "data": {
      "text/html": [
       "<div>\n",
       "<style scoped>\n",
       "    .dataframe tbody tr th:only-of-type {\n",
       "        vertical-align: middle;\n",
       "    }\n",
       "\n",
       "    .dataframe tbody tr th {\n",
       "        vertical-align: top;\n",
       "    }\n",
       "\n",
       "    .dataframe thead th {\n",
       "        text-align: right;\n",
       "    }\n",
       "</style>\n",
       "<table border=\"1\" class=\"dataframe\">\n",
       "  <thead>\n",
       "    <tr style=\"text-align: right;\">\n",
       "      <th></th>\n",
       "      <th>date</th>\n",
       "      <th>product_id</th>\n",
       "      <th>city_id</th>\n",
       "      <th>orders</th>\n",
       "      <th>year</th>\n",
       "      <th>Month</th>\n",
       "      <th>Month_name</th>\n",
       "    </tr>\n",
       "  </thead>\n",
       "  <tbody>\n",
       "    <tr>\n",
       "      <th>843</th>\n",
       "      <td>2019-02-14</td>\n",
       "      <td>4627</td>\n",
       "      <td>26</td>\n",
       "      <td>5</td>\n",
       "      <td>2019</td>\n",
       "      <td>2</td>\n",
       "      <td>February</td>\n",
       "    </tr>\n",
       "    <tr>\n",
       "      <th>617</th>\n",
       "      <td>2019-06-27</td>\n",
       "      <td>5517</td>\n",
       "      <td>22</td>\n",
       "      <td>4</td>\n",
       "      <td>2019</td>\n",
       "      <td>6</td>\n",
       "      <td>June</td>\n",
       "    </tr>\n",
       "    <tr>\n",
       "      <th>820</th>\n",
       "      <td>2019-07-27</td>\n",
       "      <td>7239</td>\n",
       "      <td>22</td>\n",
       "      <td>2</td>\n",
       "      <td>2019</td>\n",
       "      <td>7</td>\n",
       "      <td>July</td>\n",
       "    </tr>\n",
       "    <tr>\n",
       "      <th>953</th>\n",
       "      <td>2018-11-24</td>\n",
       "      <td>1848</td>\n",
       "      <td>14</td>\n",
       "      <td>120</td>\n",
       "      <td>2018</td>\n",
       "      <td>11</td>\n",
       "      <td>November</td>\n",
       "    </tr>\n",
       "    <tr>\n",
       "      <th>703</th>\n",
       "      <td>2019-08-02</td>\n",
       "      <td>5187</td>\n",
       "      <td>22</td>\n",
       "      <td>4</td>\n",
       "      <td>2019</td>\n",
       "      <td>8</td>\n",
       "      <td>August</td>\n",
       "    </tr>\n",
       "  </tbody>\n",
       "</table>\n",
       "</div>"
      ],
      "text/plain": [
       "          date  product_id  city_id  orders  year  Month Month_name\n",
       "843 2019-02-14        4627       26       5  2019      2   February\n",
       "617 2019-06-27        5517       22       4  2019      6       June\n",
       "820 2019-07-27        7239       22       2  2019      7       July\n",
       "953 2018-11-24        1848       14     120  2018     11   November\n",
       "703 2019-08-02        5187       22       4  2019      8     August"
      ]
     },
     "execution_count": 131,
     "metadata": {},
     "output_type": "execute_result"
    }
   ],
   "source": [
    "df_date['Month'] = df_date['date'].dt.month\n",
    "df_date['Month_name'] = df_date['date'].dt.month_name()\n",
    "df_date.sample(5)"
   ]
  },
  {
   "cell_type": "code",
   "execution_count": 132,
   "metadata": {},
   "outputs": [
    {
     "data": {
      "text/html": [
       "<div>\n",
       "<style scoped>\n",
       "    .dataframe tbody tr th:only-of-type {\n",
       "        vertical-align: middle;\n",
       "    }\n",
       "\n",
       "    .dataframe tbody tr th {\n",
       "        vertical-align: top;\n",
       "    }\n",
       "\n",
       "    .dataframe thead th {\n",
       "        text-align: right;\n",
       "    }\n",
       "</style>\n",
       "<table border=\"1\" class=\"dataframe\">\n",
       "  <thead>\n",
       "    <tr style=\"text-align: right;\">\n",
       "      <th></th>\n",
       "      <th>date</th>\n",
       "      <th>product_id</th>\n",
       "      <th>city_id</th>\n",
       "      <th>orders</th>\n",
       "      <th>year</th>\n",
       "      <th>Month</th>\n",
       "      <th>Month_name</th>\n",
       "      <th>Day</th>\n",
       "      <th>Day_name</th>\n",
       "    </tr>\n",
       "  </thead>\n",
       "  <tbody>\n",
       "    <tr>\n",
       "      <th>366</th>\n",
       "      <td>2019-07-22</td>\n",
       "      <td>2307</td>\n",
       "      <td>4</td>\n",
       "      <td>6</td>\n",
       "      <td>2019</td>\n",
       "      <td>7</td>\n",
       "      <td>July</td>\n",
       "      <td>22</td>\n",
       "      <td>Monday</td>\n",
       "    </tr>\n",
       "    <tr>\n",
       "      <th>460</th>\n",
       "      <td>2019-01-25</td>\n",
       "      <td>5508</td>\n",
       "      <td>14</td>\n",
       "      <td>9</td>\n",
       "      <td>2019</td>\n",
       "      <td>1</td>\n",
       "      <td>January</td>\n",
       "      <td>25</td>\n",
       "      <td>Friday</td>\n",
       "    </tr>\n",
       "    <tr>\n",
       "      <th>172</th>\n",
       "      <td>2019-06-24</td>\n",
       "      <td>5450</td>\n",
       "      <td>13</td>\n",
       "      <td>1</td>\n",
       "      <td>2019</td>\n",
       "      <td>6</td>\n",
       "      <td>June</td>\n",
       "      <td>24</td>\n",
       "      <td>Monday</td>\n",
       "    </tr>\n",
       "    <tr>\n",
       "      <th>219</th>\n",
       "      <td>2019-07-26</td>\n",
       "      <td>4425</td>\n",
       "      <td>16</td>\n",
       "      <td>2</td>\n",
       "      <td>2019</td>\n",
       "      <td>7</td>\n",
       "      <td>July</td>\n",
       "      <td>26</td>\n",
       "      <td>Friday</td>\n",
       "    </tr>\n",
       "    <tr>\n",
       "      <th>813</th>\n",
       "      <td>2019-06-12</td>\n",
       "      <td>12</td>\n",
       "      <td>25</td>\n",
       "      <td>1</td>\n",
       "      <td>2019</td>\n",
       "      <td>6</td>\n",
       "      <td>June</td>\n",
       "      <td>12</td>\n",
       "      <td>Wednesday</td>\n",
       "    </tr>\n",
       "  </tbody>\n",
       "</table>\n",
       "</div>"
      ],
      "text/plain": [
       "          date  product_id  city_id  orders  year  Month Month_name  Day  \\\n",
       "366 2019-07-22        2307        4       6  2019      7       July   22   \n",
       "460 2019-01-25        5508       14       9  2019      1    January   25   \n",
       "172 2019-06-24        5450       13       1  2019      6       June   24   \n",
       "219 2019-07-26        4425       16       2  2019      7       July   26   \n",
       "813 2019-06-12          12       25       1  2019      6       June   12   \n",
       "\n",
       "      Day_name  \n",
       "366     Monday  \n",
       "460     Friday  \n",
       "172     Monday  \n",
       "219     Friday  \n",
       "813  Wednesday  "
      ]
     },
     "execution_count": 132,
     "metadata": {},
     "output_type": "execute_result"
    }
   ],
   "source": [
    "df_date['Day'] = df_date['date'].dt.day\n",
    "df_date['Day_name'] = df_date['date'].dt.day_name()\n",
    "df_date.sample(5)"
   ]
  },
  {
   "cell_type": "code",
   "execution_count": 133,
   "metadata": {},
   "outputs": [],
   "source": [
    "df_time['date'] = pd.to_datetime(df_time['date'])"
   ]
  },
  {
   "cell_type": "code",
   "execution_count": 134,
   "metadata": {},
   "outputs": [
    {
     "data": {
      "text/html": [
       "<div>\n",
       "<style scoped>\n",
       "    .dataframe tbody tr th:only-of-type {\n",
       "        vertical-align: middle;\n",
       "    }\n",
       "\n",
       "    .dataframe tbody tr th {\n",
       "        vertical-align: top;\n",
       "    }\n",
       "\n",
       "    .dataframe thead th {\n",
       "        text-align: right;\n",
       "    }\n",
       "</style>\n",
       "<table border=\"1\" class=\"dataframe\">\n",
       "  <thead>\n",
       "    <tr style=\"text-align: right;\">\n",
       "      <th></th>\n",
       "      <th>date</th>\n",
       "      <th>Time</th>\n",
       "      <th>Hours</th>\n",
       "      <th>Minutes</th>\n",
       "      <th>Seconds</th>\n",
       "    </tr>\n",
       "  </thead>\n",
       "  <tbody>\n",
       "    <tr>\n",
       "      <th>576</th>\n",
       "      <td>2015-03-08 23:05:00</td>\n",
       "      <td>23:05:00</td>\n",
       "      <td>23</td>\n",
       "      <td>5</td>\n",
       "      <td>0</td>\n",
       "    </tr>\n",
       "    <tr>\n",
       "      <th>703</th>\n",
       "      <td>2014-01-09 23:08:00</td>\n",
       "      <td>23:08:00</td>\n",
       "      <td>23</td>\n",
       "      <td>8</td>\n",
       "      <td>0</td>\n",
       "    </tr>\n",
       "    <tr>\n",
       "      <th>78</th>\n",
       "      <td>2013-11-11 00:20:00</td>\n",
       "      <td>00:20:00</td>\n",
       "      <td>0</td>\n",
       "      <td>20</td>\n",
       "      <td>0</td>\n",
       "    </tr>\n",
       "    <tr>\n",
       "      <th>413</th>\n",
       "      <td>2013-08-29 00:48:00</td>\n",
       "      <td>00:48:00</td>\n",
       "      <td>0</td>\n",
       "      <td>48</td>\n",
       "      <td>0</td>\n",
       "    </tr>\n",
       "    <tr>\n",
       "      <th>706</th>\n",
       "      <td>2012-03-06 23:55:00</td>\n",
       "      <td>23:55:00</td>\n",
       "      <td>23</td>\n",
       "      <td>55</td>\n",
       "      <td>0</td>\n",
       "    </tr>\n",
       "  </tbody>\n",
       "</table>\n",
       "</div>"
      ],
      "text/plain": [
       "                   date      Time  Hours  Minutes  Seconds\n",
       "576 2015-03-08 23:05:00  23:05:00     23        5        0\n",
       "703 2014-01-09 23:08:00  23:08:00     23        8        0\n",
       "78  2013-11-11 00:20:00  00:20:00      0       20        0\n",
       "413 2013-08-29 00:48:00  00:48:00      0       48        0\n",
       "706 2012-03-06 23:55:00  23:55:00     23       55        0"
      ]
     },
     "execution_count": 134,
     "metadata": {},
     "output_type": "execute_result"
    }
   ],
   "source": [
    "df_time['Time'] = df_time['date'].dt.time\n",
    "df_time['Hours'] = df_time['date'].dt.hour\n",
    "df_time['Minutes'] = df_time['date'].dt.minute\n",
    "df_time['Seconds'] = df_time['date'].dt.second\n",
    "df_time = df_time.drop(columns='msg')\n",
    "df_time.sample(5)"
   ]
  },
  {
   "cell_type": "code",
   "execution_count": 137,
   "metadata": {},
   "outputs": [],
   "source": [
    "import datetime\n",
    "today = datetime.datetime.today()"
   ]
  },
  {
   "cell_type": "code",
   "execution_count": 139,
   "metadata": {},
   "outputs": [
    {
     "data": {
      "text/plain": [
       "0     3721 days 20:03:12.393984\n",
       "1     3585 days 21:13:12.393984\n",
       "2     4071 days 20:32:12.393984\n",
       "3     3373 days 20:22:12.393984\n",
       "4     3770 days 21:42:12.393984\n",
       "                 ...           \n",
       "995   4360 days 20:03:12.393984\n",
       "996   3681 days 21:39:12.393984\n",
       "997   4146 days 21:16:12.393984\n",
       "998   4262 days 21:19:12.393984\n",
       "999   3534 days 21:28:12.393984\n",
       "Name: date, Length: 1000, dtype: timedelta64[ns]"
      ]
     },
     "execution_count": 139,
     "metadata": {},
     "output_type": "execute_result"
    }
   ],
   "source": [
    "today-df_time['date']"
   ]
  },
  {
   "cell_type": "code",
   "execution_count": 141,
   "metadata": {},
   "outputs": [
    {
     "data": {
      "text/plain": [
       "0      1535\n",
       "1      2017\n",
       "2      1948\n",
       "3      1650\n",
       "4      1873\n",
       "       ... \n",
       "995    1963\n",
       "996    1904\n",
       "997    1752\n",
       "998    1817\n",
       "999    1591\n",
       "Name: date, Length: 1000, dtype: int64"
      ]
     },
     "execution_count": 141,
     "metadata": {},
     "output_type": "execute_result"
    }
   ],
   "source": [
    "(today - df_date['date']).dt.days\n"
   ]
  },
  {
   "cell_type": "code",
   "execution_count": 142,
   "metadata": {},
   "outputs": [
    {
     "data": {
      "text/plain": [
       "0      3.215666e+08\n",
       "1      3.098204e+08\n",
       "2      3.518083e+08\n",
       "3      2.915005e+08\n",
       "4      3.258061e+08\n",
       "           ...     \n",
       "995    3.767762e+08\n",
       "996    3.181164e+08\n",
       "997    3.582910e+08\n",
       "998    3.683136e+08\n",
       "999    3.054149e+08\n",
       "Name: date, Length: 1000, dtype: float64"
      ]
     },
     "execution_count": 142,
     "metadata": {},
     "output_type": "execute_result"
    }
   ],
   "source": [
    "# in seconds\n",
    "\n",
    "(today - df_time['date'])/np.timedelta64(1,'s')"
   ]
  },
  {
   "cell_type": "code",
   "execution_count": 143,
   "metadata": {},
   "outputs": [
    {
     "data": {
      "text/plain": [
       "0      5.359443e+06\n",
       "1      5.163673e+06\n",
       "2      5.863472e+06\n",
       "3      4.858342e+06\n",
       "4      5.430102e+06\n",
       "           ...     \n",
       "995    6.279603e+06\n",
       "996    5.301939e+06\n",
       "997    5.971516e+06\n",
       "998    6.138559e+06\n",
       "999    5.090248e+06\n",
       "Name: date, Length: 1000, dtype: float64"
      ]
     },
     "execution_count": 143,
     "metadata": {},
     "output_type": "execute_result"
    }
   ],
   "source": [
    "# in minutes\n",
    "\n",
    "(today - df_time['date'])/np.timedelta64(1,'m')"
   ]
  },
  {
   "cell_type": "code",
   "execution_count": 144,
   "metadata": {},
   "outputs": [
    {
     "data": {
      "text/plain": [
       "0       89324.053443\n",
       "1       86061.220109\n",
       "2       97724.536776\n",
       "3       80972.370109\n",
       "4       90501.703443\n",
       "           ...      \n",
       "995    104660.053443\n",
       "996     88365.653443\n",
       "997     99525.270109\n",
       "998    102309.320109\n",
       "999     84837.470109\n",
       "Name: date, Length: 1000, dtype: float64"
      ]
     },
     "execution_count": 144,
     "metadata": {},
     "output_type": "execute_result"
    }
   ],
   "source": [
    "# in hours\n",
    "\n",
    "(today - df_time['date'])/np.timedelta64(1,'h')"
   ]
  }
 ],
 "metadata": {
  "kernelspec": {
   "display_name": "Python 3",
   "language": "python",
   "name": "python3"
  },
  "language_info": {
   "codemirror_mode": {
    "name": "ipython",
    "version": 3
   },
   "file_extension": ".py",
   "mimetype": "text/x-python",
   "name": "python",
   "nbconvert_exporter": "python",
   "pygments_lexer": "ipython3",
   "version": "3.11.5"
  }
 },
 "nbformat": 4,
 "nbformat_minor": 2
}
