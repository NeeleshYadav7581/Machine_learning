{
 "cells": [
  {
   "cell_type": "markdown",
   "metadata": {},
   "source": [
    "Importing libraries"
   ]
  },
  {
   "cell_type": "code",
   "execution_count": 8,
   "metadata": {},
   "outputs": [],
   "source": [
    "import pandas as pd\n",
    "import requests\n",
    "from bs4 import BeautifulSoup"
   ]
  },
  {
   "cell_type": "markdown",
   "metadata": {},
   "source": [
    "Response check"
   ]
  },
  {
   "cell_type": "code",
   "execution_count": 9,
   "metadata": {},
   "outputs": [],
   "source": [
    "response = requests.get('https://www.imdb.com/search/title/?languages=hi&title_type=feature&num_votes=10000,&sort=user_rating,desc').text"
   ]
  },
  {
   "cell_type": "markdown",
   "metadata": {},
   "source": [
    "Make a soup variable for parsing "
   ]
  },
  {
   "cell_type": "code",
   "execution_count": 10,
   "metadata": {},
   "outputs": [],
   "source": [
    "soup = BeautifulSoup(response, 'lxml')"
   ]
  },
  {
   "cell_type": "markdown",
   "metadata": {},
   "source": [
    "Scraping the data of top ratting movies"
   ]
  },
  {
   "cell_type": "code",
   "execution_count": 11,
   "metadata": {},
   "outputs": [],
   "source": [
    "movies = soup.find_all('div' , class_ = 'lister-item mode-advanced')"
   ]
  },
  {
   "cell_type": "code",
   "execution_count": 12,
   "metadata": {},
   "outputs": [],
   "source": [
    "movies_name = []\n",
    "release_year = []\n",
    "ratting = []\n",
    "screen_time = []\n",
    "Genres = []\n",
    "about = []\n",
    "for i in movies:\n",
    "    response = requests.get('https://www.imdb.com/search/title/?languages=hi&title_type=feature&num_votes=10000,&sort=user_rating,descpages={}'.format(i)).text\n",
    "    header = i.find('div', class_=\"lister-item-content\")\n",
    "    movies_name.append(header.find('a').text)\n",
    "    release_year.append(header.find('span' , class_=\"lister-item-year text-muted unbold\").text)\n",
    "    ratting.append(header.find('strong').text)\n",
    "    screen_time.append(header.find('span', class_='runtime').text)\n",
    "    Genres.append(header.find('span' , class_=\"genre\").text.strip())\n",
    "    about.append(header.find_all('p', class_=\"text-muted\")[1].text.strip())"
   ]
  },
  {
   "cell_type": "markdown",
   "metadata": {},
   "source": [
    "Create the dataframe "
   ]
  },
  {
   "cell_type": "code",
   "execution_count": 13,
   "metadata": {},
   "outputs": [],
   "source": [
    "df = pd.DataFrame({\n",
    "    'Movies_name' : movies_name,\n",
    "    'Release_year': release_year,\n",
    "    'Screen_time' : screen_time,\n",
    "    'Ratting': ratting,\n",
    "    'Genres': Genres,\n",
    "    'About': about,\n",
    "    \n",
    "})"
   ]
  },
  {
   "cell_type": "code",
   "execution_count": 14,
   "metadata": {},
   "outputs": [
    {
     "data": {
      "text/html": [
       "<div>\n",
       "<style scoped>\n",
       "    .dataframe tbody tr th:only-of-type {\n",
       "        vertical-align: middle;\n",
       "    }\n",
       "\n",
       "    .dataframe tbody tr th {\n",
       "        vertical-align: top;\n",
       "    }\n",
       "\n",
       "    .dataframe thead th {\n",
       "        text-align: right;\n",
       "    }\n",
       "</style>\n",
       "<table border=\"1\" class=\"dataframe\">\n",
       "  <thead>\n",
       "    <tr style=\"text-align: right;\">\n",
       "      <th></th>\n",
       "      <th>Movies_name</th>\n",
       "      <th>Release_year</th>\n",
       "      <th>Screen_time</th>\n",
       "      <th>Ratting</th>\n",
       "      <th>Genres</th>\n",
       "      <th>About</th>\n",
       "    </tr>\n",
       "  </thead>\n",
       "  <tbody>\n",
       "    <tr>\n",
       "      <th>0</th>\n",
       "      <td>Ramayana: The Legend of Prince Rama</td>\n",
       "      <td>(1993)</td>\n",
       "      <td>135 min</td>\n",
       "      <td>9.2</td>\n",
       "      <td>Animation, Action, Adventure</td>\n",
       "      <td>An anime adaptation of the Hindu epic the Rama...</td>\n",
       "    </tr>\n",
       "    <tr>\n",
       "      <th>1</th>\n",
       "      <td>DAMaN</td>\n",
       "      <td>(2022)</td>\n",
       "      <td>121 min</td>\n",
       "      <td>9.0</td>\n",
       "      <td>Adventure, Drama</td>\n",
       "      <td>The film is set in 2015. Sid, is a young docto...</td>\n",
       "    </tr>\n",
       "    <tr>\n",
       "      <th>2</th>\n",
       "      <td>Al-risâlah</td>\n",
       "      <td>(1976)</td>\n",
       "      <td>207 min</td>\n",
       "      <td>8.9</td>\n",
       "      <td>Action, Adventure, Biography</td>\n",
       "      <td>The story of prophet \"Muhammad\" and the delive...</td>\n",
       "    </tr>\n",
       "    <tr>\n",
       "      <th>3</th>\n",
       "      <td>#Home</td>\n",
       "      <td>(2021)</td>\n",
       "      <td>158 min</td>\n",
       "      <td>8.8</td>\n",
       "      <td>Drama</td>\n",
       "      <td>Oliver Twist (Indrans) wants to be tech-savvy ...</td>\n",
       "    </tr>\n",
       "    <tr>\n",
       "      <th>4</th>\n",
       "      <td>Rocketry: The Nambi Effect</td>\n",
       "      <td>(2022)</td>\n",
       "      <td>157 min</td>\n",
       "      <td>8.7</td>\n",
       "      <td>Biography, Drama</td>\n",
       "      <td>Based on the life of Indian Space Research Org...</td>\n",
       "    </tr>\n",
       "    <tr>\n",
       "      <th>5</th>\n",
       "      <td>The Kashmir Files</td>\n",
       "      <td>(2022)</td>\n",
       "      <td>170 min</td>\n",
       "      <td>8.6</td>\n",
       "      <td>Drama</td>\n",
       "      <td>A heart-wrenching tale that captures the pain,...</td>\n",
       "    </tr>\n",
       "    <tr>\n",
       "      <th>6</th>\n",
       "      <td>Anbe Sivam</td>\n",
       "      <td>(2003)</td>\n",
       "      <td>160 min</td>\n",
       "      <td>8.6</td>\n",
       "      <td>Adventure, Comedy, Drama</td>\n",
       "      <td>Two men, one young and arrogant, the other dam...</td>\n",
       "    </tr>\n",
       "    <tr>\n",
       "      <th>7</th>\n",
       "      <td>Jersey</td>\n",
       "      <td>(2019)</td>\n",
       "      <td>157 min</td>\n",
       "      <td>8.5</td>\n",
       "      <td>Drama, Sport</td>\n",
       "      <td>A failed cricketer decides to revive his crick...</td>\n",
       "    </tr>\n",
       "    <tr>\n",
       "      <th>8</th>\n",
       "      <td>Gol Maal</td>\n",
       "      <td>(1979)</td>\n",
       "      <td>144 min</td>\n",
       "      <td>8.5</td>\n",
       "      <td>Comedy, Romance</td>\n",
       "      <td>A man's simple lie to secure his job escalates...</td>\n",
       "    </tr>\n",
       "    <tr>\n",
       "      <th>9</th>\n",
       "      <td>3 Idiots</td>\n",
       "      <td>(2009)</td>\n",
       "      <td>170 min</td>\n",
       "      <td>8.4</td>\n",
       "      <td>Comedy, Drama</td>\n",
       "      <td>Two friends are searching for their long lost ...</td>\n",
       "    </tr>\n",
       "  </tbody>\n",
       "</table>\n",
       "</div>"
      ],
      "text/plain": [
       "                           Movies_name Release_year Screen_time Ratting  \\\n",
       "0  Ramayana: The Legend of Prince Rama       (1993)     135 min     9.2   \n",
       "1                                DAMaN       (2022)     121 min     9.0   \n",
       "2                           Al-risâlah       (1976)     207 min     8.9   \n",
       "3                                #Home       (2021)     158 min     8.8   \n",
       "4           Rocketry: The Nambi Effect       (2022)     157 min     8.7   \n",
       "5                    The Kashmir Files       (2022)     170 min     8.6   \n",
       "6                           Anbe Sivam       (2003)     160 min     8.6   \n",
       "7                               Jersey       (2019)     157 min     8.5   \n",
       "8                             Gol Maal       (1979)     144 min     8.5   \n",
       "9                             3 Idiots       (2009)     170 min     8.4   \n",
       "\n",
       "                         Genres  \\\n",
       "0  Animation, Action, Adventure   \n",
       "1              Adventure, Drama   \n",
       "2  Action, Adventure, Biography   \n",
       "3                         Drama   \n",
       "4              Biography, Drama   \n",
       "5                         Drama   \n",
       "6      Adventure, Comedy, Drama   \n",
       "7                  Drama, Sport   \n",
       "8               Comedy, Romance   \n",
       "9                 Comedy, Drama   \n",
       "\n",
       "                                               About  \n",
       "0  An anime adaptation of the Hindu epic the Rama...  \n",
       "1  The film is set in 2015. Sid, is a young docto...  \n",
       "2  The story of prophet \"Muhammad\" and the delive...  \n",
       "3  Oliver Twist (Indrans) wants to be tech-savvy ...  \n",
       "4  Based on the life of Indian Space Research Org...  \n",
       "5  A heart-wrenching tale that captures the pain,...  \n",
       "6  Two men, one young and arrogant, the other dam...  \n",
       "7  A failed cricketer decides to revive his crick...  \n",
       "8  A man's simple lie to secure his job escalates...  \n",
       "9  Two friends are searching for their long lost ...  "
      ]
     },
     "execution_count": 14,
     "metadata": {},
     "output_type": "execute_result"
    }
   ],
   "source": [
    "df.head(10)"
   ]
  },
  {
   "cell_type": "code",
   "execution_count": 15,
   "metadata": {},
   "outputs": [
    {
     "data": {
      "text/plain": [
       "(50, 6)"
      ]
     },
     "execution_count": 15,
     "metadata": {},
     "output_type": "execute_result"
    }
   ],
   "source": [
    "df.shape"
   ]
  },
  {
   "cell_type": "markdown",
   "metadata": {},
   "source": [
    "Save the dataframe into csv file "
   ]
  },
  {
   "cell_type": "code",
   "execution_count": 16,
   "metadata": {},
   "outputs": [],
   "source": [
    "df.to_csv('Top_ratting_movies.csv')"
   ]
  }
 ],
 "metadata": {
  "kernelspec": {
   "display_name": "AIML",
   "language": "python",
   "name": "python3"
  },
  "language_info": {
   "codemirror_mode": {
    "name": "ipython",
    "version": 3
   },
   "file_extension": ".py",
   "mimetype": "text/x-python",
   "name": "python",
   "nbconvert_exporter": "python",
   "pygments_lexer": "ipython3",
   "version": "3.11.5"
  },
  "orig_nbformat": 4
 },
 "nbformat": 4,
 "nbformat_minor": 2
}
